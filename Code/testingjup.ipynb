{
 "cells": [
  {
   "cell_type": "code",
   "execution_count": 1,
   "metadata": {},
   "outputs": [],
   "source": [
    "# imports\n",
    "import pandas as pd\n",
    "file_name = \"/Users/lauryndavis/\"\n",
    "\n",
    "def readXLSXfiles():\n",
    "    #creating \"master\" dataframe for merging\n",
    "    crimeDataDF = pd.DataFramecolumns=['CATEGORY','CALL GROUPS','final_case_type','CASE DESC', 'occ_date', \n",
    "                                    'x-coordinate', 'y_coordniate', 'census_tract']\n",
    "\n",
    "    # Adding all sheet files (NOT geospatial files yet)\n",
    "    # full years\n",
    "\n",
    "    fullYear2012 = pd.read_excel(file_name+ r\"/CIS635/Full Year/2012fullyear.xlsx\")\n",
    "    fullYear2013 = pd.read_excel(file_name+ r\"/CIS635/Full Year/2013fullyear.xlsx\")\n",
    "    fullYear2014 = pd.read_excel(file_name+ r\"/CIS635/2014/2014fullyear.xlsx\")\n",
    "    fullYear2015 = pd.read_excel(file_name+ r\"/CIS635/Full Year/2015fullyear.xlsx\")\n",
    "    #2016\n",
    "    janJuly2016 = pd.read_excel(file_name + r\"/CIS635/2016/2016jan-july.xlsx\")\n",
    "    aug2016 = pd.read_excel(file_name+ r\"/CIS635/2016/2016aug.xlsx\")\n",
    "    sept2016 = pd.read_excel(file_name+ r\"/CIS635/2016/2016sept.xlsx\")\n",
    "    oct2016 = pd.read_excel(file_name+ r\"/CIS635/2016/2016oct.xlsx\")\n",
    "    nov2016 = pd.read_excel(file_name+ r\"/CIS635/2016/2016nov.xlsx\")\n",
    "    dec2016 = pd.read_excel(file_name+ r\"/CIS635/2016/2016dec.xlsx\")\n",
    "    #2017\n",
    "    jan2017 = pd.read_excel(file_name+ r\"/CIS635/2017/2017jan.xlsx\")\n",
    "    feb_1_14_2017 = pd.read_excel(file_name+ r\"/CIS635/2017/2017feb1-14.xlsx\")\n",
    "    feb_15_21_2017 = pd.read_excel(file_name+ r\"/CIS635/2017/2017feb15-21.xlsx\")\n",
    "    feb_22_26_2017 = pd.read_excel(file_name+ r\"/CIS635/2017/2017feb22-26.xlsx\")\n",
    "    feb_27_2017 = pd.read_excel(file_name+ r\"/CIS635/2017/2017feb27.xlsx\")\n",
    "    feb_28_2017 = pd.read_excel(file_name + r\"/CIS635/2017/2017feb28.xlsx\")\n",
    "    marMay2017 = pd.read_excel(file_name + r\"/CIS635/2017/2017mar-may.xlsx\")\n",
    "\n",
    "\n",
    "    # removing fullYear2012, fullYear2013 because of intial merge\n",
    "    dataList=[fullYear2014,fullYear2015, janJuly2016, aug2016, sept2016, \n",
    "            oct2016, nov2016, dec2016, jan2017, feb_1_14_2017, feb_15_21_2017, feb_22_26_2017, \n",
    "            feb_27_2017, feb_28_2017, marMay2017]\n",
    "\n",
    "    #i'm sure there is a more elegent way to do this, \n",
    "    # but I am doing an intial merge, then doing a loop\n",
    "    crimeDataDF = pd.merge(fullYear2012, fullYear2013, how = 'outer')\n",
    "    for tempData in dataList:\n",
    "        crimeDataDF = pd.merge(crimeDataDF, tempData, how = 'outer')\n",
    "\n",
    "    return crimeDataDF\n",
    "\n",
    "    \n"
   ]
  },
  {
   "cell_type": "code",
   "execution_count": 4,
   "metadata": {},
   "outputs": [],
   "source": [
    "data = readXLSXfiles()\n"
   ]
  },
  {
   "cell_type": "code",
   "execution_count": null,
   "metadata": {},
   "outputs": [],
   "source": [
    "#Visualizing multivariate data with scatter plots:\n",
    "import pandas as pd\n",
    "import re\n",
    "import numpy as np\n",
    "import seaborn as sns\n",
    "\n"
   ]
  },
  {
   "cell_type": "code",
   "execution_count": 8,
   "metadata": {},
   "outputs": [],
   "source": [
    "#Attempting to create a supervised classification technique similar to what we did in assignment 3. \n",
    "#We can use KNN with K Stratified cross validation to classiffy categories of crime based on the x,y coordinate pair. \n",
    "file_name = 'crime.xlsx'\n",
    "data.to_excel(file_name)"
   ]
  },
  {
   "cell_type": "code",
   "execution_count": 1,
   "metadata": {},
   "outputs": [],
   "source": [
    "import geopandas\n"
   ]
  }
 ],
 "metadata": {
  "kernelspec": {
   "display_name": "Python 3",
   "language": "python",
   "name": "python3"
  },
  "language_info": {
   "codemirror_mode": {
    "name": "ipython",
    "version": 3
   },
   "file_extension": ".py",
   "mimetype": "text/x-python",
   "name": "python",
   "nbconvert_exporter": "python",
   "pygments_lexer": "ipython3",
   "version": "3.8.18"
  }
 },
 "nbformat": 4,
 "nbformat_minor": 2
}
