{
 "cells": [
  {
   "cell_type": "code",
   "execution_count": 1,
   "metadata": {},
   "outputs": [],
   "source": [
    "# imports\n",
    "import pandas as pd\n",
    "file_name = \"/Users/lauryndavis/\"\n",
    "\n",
    "def readXLSXfiles():\n",
    "    #creating \"master\" dataframe for merging\n",
    "    crimeDataDF = pd.DataFramecolumns=['CATEGORY','CALL GROUPS','final_case_type','CASE DESC', 'occ_date', \n",
    "                                    'x-coordinate', 'y_coordniate', 'census_tract']\n",
    "\n",
    "    # Adding all sheet files (NOT geospatial files yet)\n",
    "    # full years\n",
    "\n",
    "    fullYear2012 = pd.read_excel(file_name+ r\"/CIS635/Full Year/2012fullyear.xlsx\")\n",
    "    fullYear2013 = pd.read_excel(file_name+ r\"/CIS635/Full Year/2013fullyear.xlsx\")\n",
    "    fullYear2014 = pd.read_excel(file_name+ r\"/CIS635/2014/2014fullyear.xlsx\")\n",
    "    fullYear2015 = pd.read_excel(file_name+ r\"/CIS635/Full Year/2015fullyear.xlsx\")\n",
    "    #2016\n",
    "    janJuly2016 = pd.read_excel(file_name + r\"/CIS635/2016/2016jan-july.xlsx\")\n",
    "    aug2016 = pd.read_excel(file_name+ r\"/CIS635/2016/2016aug.xlsx\")\n",
    "    sept2016 = pd.read_excel(file_name+ r\"/CIS635/2016/2016sept.xlsx\")\n",
    "    oct2016 = pd.read_excel(file_name+ r\"/CIS635/2016/2016oct.xlsx\")\n",
    "    nov2016 = pd.read_excel(file_name+ r\"/CIS635/2016/2016nov.xlsx\")\n",
    "    dec2016 = pd.read_excel(file_name+ r\"/CIS635/2016/2016dec.xlsx\")\n",
    "    #2017\n",
    "    jan2017 = pd.read_excel(file_name+ r\"/CIS635/2017/2017jan.xlsx\")\n",
    "    feb_1_14_2017 = pd.read_excel(file_name+ r\"/CIS635/2017/2017feb1-14.xlsx\")\n",
    "    feb_15_21_2017 = pd.read_excel(file_name+ r\"/CIS635/2017/2017feb15-21.xlsx\")\n",
    "    feb_22_26_2017 = pd.read_excel(file_name+ r\"/CIS635/2017/2017feb22-26.xlsx\")\n",
    "    feb_27_2017 = pd.read_excel(file_name+ r\"/CIS635/2017/2017feb27.xlsx\")\n",
    "    feb_28_2017 = pd.read_excel(file_name + r\"/CIS635/2017/2017feb28.xlsx\")\n",
    "    marMay2017 = pd.read_excel(file_name + r\"/CIS635/2017/2017mar-may.xlsx\")\n",
    "\n",
    "\n",
    "    # removing fullYear2012, fullYear2013 because of intial merge\n",
    "    dataList=[fullYear2014,fullYear2015, janJuly2016, aug2016, sept2016, \n",
    "            oct2016, nov2016, dec2016, jan2017, feb_1_14_2017, feb_15_21_2017, feb_22_26_2017, \n",
    "            feb_27_2017, feb_28_2017, marMay2017]\n",
    "\n",
    "    #i'm sure there is a more elegent way to do this, \n",
    "    # but I am doing an intial merge, then doing a loop\n",
    "    crimeDataDF = pd.merge(fullYear2012, fullYear2013, how = 'outer')\n",
    "    for tempData in dataList:\n",
    "        crimeDataDF = pd.merge(crimeDataDF, tempData, how = 'outer')\n",
    "\n",
    "    return crimeDataDF\n",
    "\n",
    "    \n"
   ]
  },
  {
   "cell_type": "code",
   "execution_count": 4,
   "metadata": {},
   "outputs": [],
   "source": [
    "data = readXLSXfiles()\n"
   ]
  },
  {
   "cell_type": "code",
   "execution_count": null,
   "metadata": {},
   "outputs": [],
   "source": [
    "#Visualizing multivariate data with scatter plots:\n",
    "import pandas as pd\n",
    "import re\n",
    "import numpy as np\n",
    "import seaborn as sns\n",
    "\n"
   ]
  },
  {
   "cell_type": "code",
   "execution_count": 8,
   "metadata": {},
   "outputs": [],
   "source": [
    "#Attempting to create a supervised classification technique similar to what we did in assignment 3. \n",
    "#We can use KNN with K Stratified cross validation to classiffy categories of crime based on the x,y coordinate pair. \n",
    "file_name = 'crime.xlsx'\n",
    "data.to_excel(file_name)"
   ]
  },
  {
   "cell_type": "code",
   "execution_count": 3,
   "metadata": {},
   "outputs": [
    {
     "ename": "NameError",
     "evalue": "name 'gpd' is not defined",
     "output_type": "error",
     "traceback": [
      "\u001b[0;31m---------------------------------------------------------------------------\u001b[0m",
      "\u001b[0;31mNameError\u001b[0m                                 Traceback (most recent call last)",
      "\u001b[1;32m/Users/lauryndavis/CIS635/Code/testingjup.ipynb Cell 5\u001b[0m line \u001b[0;36m3\n\u001b[1;32m      <a href='vscode-notebook-cell:/Users/lauryndavis/CIS635/Code/testingjup.ipynb#X14sZmlsZQ%3D%3D?line=0'>1</a>\u001b[0m \u001b[39mimport\u001b[39;00m \u001b[39mgeopandas\u001b[39;00m \u001b[39mas\u001b[39;00m \u001b[39mgdp\u001b[39;00m\n\u001b[1;32m      <a href='vscode-notebook-cell:/Users/lauryndavis/CIS635/Code/testingjup.ipynb#X14sZmlsZQ%3D%3D?line=1'>2</a>\u001b[0m fp \u001b[39m=\u001b[39m \u001b[39m\"\u001b[39m\u001b[39m/Users/lauryndavis/CIS635/Geo_Data/2012/NIJ2012_MAR01_DEC31.shp\u001b[39m\u001b[39m\"\u001b[39m\n\u001b[0;32m----> <a href='vscode-notebook-cell:/Users/lauryndavis/CIS635/Code/testingjup.ipynb#X14sZmlsZQ%3D%3D?line=2'>3</a>\u001b[0m data \u001b[39m=\u001b[39m gpd\u001b[39m.\u001b[39mread_file(fp)\n",
      "\u001b[0;31mNameError\u001b[0m: name 'gpd' is not defined"
     ]
    }
   ],
   "source": [
    "import geopandas as gdp\n",
    "fp = \"/Users/lauryndavis/CIS635/Geo_Data/2012/NIJ2012_MAR01_DEC31.shp\"\n",
    "data = gpd.read_file(fp)\n",
    "\n"
   ]
  }
 ],
 "metadata": {
  "kernelspec": {
   "display_name": "Python 3",
   "language": "python",
   "name": "python3"
  },
  "language_info": {
   "codemirror_mode": {
    "name": "ipython",
    "version": 3
   },
   "file_extension": ".py",
   "mimetype": "text/x-python",
   "name": "python",
   "nbconvert_exporter": "python",
   "pygments_lexer": "ipython3",
   "version": "3.8.18"
  }
 },
 "nbformat": 4,
 "nbformat_minor": 2
}
