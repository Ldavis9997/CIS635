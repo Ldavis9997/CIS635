version https://git-lfs.github.com/spec/v1
oid sha256:a472a5ba986998bea39cf7292b0d22ea12c13d816acdf984882710dd3d550704
size 12031
